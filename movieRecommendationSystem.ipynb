{
 "cells": [
  {
   "cell_type": "code",
   "execution_count": 2,
   "metadata": {},
   "outputs": [],
   "source": [
    "import pandas as pd\n",
    "from sklearn.feature_extraction.text import CountVectorizer, TfidfVectorizer\n",
    "from sklearn.metrics.pairwise import cosine_similarity\n",
    "import numpy as np\n",
    "from textblob import TextBlob"
   ]
  },
  {
   "cell_type": "code",
   "execution_count": 3,
   "metadata": {},
   "outputs": [],
   "source": [
    "# Load the Excel file\n",
    "file_path = 'add the path of movie data file'\n",
    "data = pd.read_excel(file_path)"
   ]
  },
  {
   "cell_type": "code",
   "execution_count": 4,
   "metadata": {},
   "outputs": [
    {
     "name": "stdout",
     "output_type": "stream",
     "text": [
      "       id            title  vote_average  vote_count    status  \\\n",
      "0   27205        Inception         8.364       34495  Released   \n",
      "1  157336     Interstellar         8.417       32571  Released   \n",
      "2     155  The Dark Knight         8.512       30619  Released   \n",
      "3   19995           Avatar         7.573       29815  Released   \n",
      "4   24428     The Avengers         7.710       29166  Released   \n",
      "\n",
      "          release_date     revenue  runtime  adult  \\\n",
      "0  2010-07-15 00:00:00   825532764      148  False   \n",
      "1  2014-11-05 00:00:00   701729206      169  False   \n",
      "2  2008-07-16 00:00:00  1004558444      152  False   \n",
      "3  2009-12-15 00:00:00  2923706026      162  False   \n",
      "4  2012-04-25 00:00:00  1518815515      143  False   \n",
      "\n",
      "                      backdrop_path  ...   original_title  \\\n",
      "0  /8ZTVqvKDQ8emSGUEMjsS4yHAwrp.jpg  ...        Inception   \n",
      "1  /pbrkL804c8yAv3zBZR4QPEafpAR.jpg  ...     Interstellar   \n",
      "2  /nMKdUUepR0i5zn0y1T4CsSB5chy.jpg  ...  The Dark Knight   \n",
      "3  /vL5LR6WdxWPjLPFRLe133jXWsh5.jpg  ...           Avatar   \n",
      "4  /9BBTo63ANSmhC4e6r62OJFuK2GL.jpg  ...     The Avengers   \n",
      "\n",
      "                                            overview popularity  \\\n",
      "0  Cobb, a skilled thief who commits corporate es...     83.952   \n",
      "1  The adventures of a group of explorers who mak...    140.241   \n",
      "2  Batman raises the stakes in his war on crime. ...    130.643   \n",
      "3  In the 22nd century, a paraplegic Marine is di...     79.932   \n",
      "4  When an unexpected enemy emerges and threatens...     98.082   \n",
      "\n",
      "                        poster_path  \\\n",
      "0  /oYuLEt3zVCKq57qu2F8dT7NIa6f.jpg   \n",
      "1  /gEU2QniE6E77NI6lCU6MxlNBvIx.jpg   \n",
      "2  /qJ2tW6WMUDux911r6m7haRef0WH.jpg   \n",
      "3  /kyeqWdyUXW608qlYkRqosgbbJyK.jpg   \n",
      "4   /RYMX2wcKCBAr24UyPD7xwmjaTn.jpg   \n",
      "\n",
      "                                             tagline  \\\n",
      "0               Your mind is the scene of the crime.   \n",
      "1  Mankind was born on Earth. It was never meant ...   \n",
      "2                  Welcome to a world without rules.   \n",
      "3                        Enter the world of Pandora.   \n",
      "4                            Some assembly required.   \n",
      "\n",
      "                                        genres  \\\n",
      "0           Action, Science Fiction, Adventure   \n",
      "1            Adventure, Drama, Science Fiction   \n",
      "2               Drama, Action, Crime, Thriller   \n",
      "3  Action, Adventure, Fantasy, Science Fiction   \n",
      "4           Science Fiction, Action, Adventure   \n",
      "\n",
      "                                production_companies  \\\n",
      "0  Legendary Pictures, Syncopy, Warner Bros. Pict...   \n",
      "1  Legendary Pictures, Syncopy, Lynda Obst Produc...   \n",
      "2  DC Comics, Legendary Pictures, Syncopy, Isobel...   \n",
      "3  Dune Entertainment, Lightstorm Entertainment, ...   \n",
      "4                                     Marvel Studios   \n",
      "\n",
      "                       production_countries  \\\n",
      "0  United Kingdom, United States of America   \n",
      "1  United Kingdom, United States of America   \n",
      "2  United Kingdom, United States of America   \n",
      "3  United States of America, United Kingdom   \n",
      "4                  United States of America   \n",
      "\n",
      "                     spoken_languages  \\\n",
      "0  English, French, Japanese, Swahili   \n",
      "1                             English   \n",
      "2                   English, Mandarin   \n",
      "3                    English, Spanish   \n",
      "4             English, Hindi, Russian   \n",
      "\n",
      "                                            keywords  \n",
      "0  rescue, mission, dream, airplane, paris, franc...  \n",
      "1  rescue, future, spacecraft, race against time,...  \n",
      "2  joker, sadism, chaos, secret identity, crime f...  \n",
      "3  future, society, culture clash, space travel, ...  \n",
      "4  new york city, superhero, shield, based on com...  \n",
      "\n",
      "[5 rows x 24 columns]\n"
     ]
    }
   ],
   "source": [
    "# Limit the dataset to the first 10000 rows\n",
    "data = data.head(10000)\n",
    "\n",
    "# Display the first few rows of the dataset\n",
    "print(data.head())"
   ]
  },
  {
   "cell_type": "code",
   "execution_count": 5,
   "metadata": {},
   "outputs": [],
   "source": [
    "# Convert 'genres' and 'keywords' columns to strings\n",
    "data['genres'] = data['genres'].astype(str)\n",
    "data['keywords'] = data['keywords'].astype(str)\n",
    "\n",
    "# Combine 'genres' and 'keywords' into a single string\n",
    "data['combined_features'] = data['genres'] + ' ' + data['keywords']"
   ]
  },
  {
   "cell_type": "code",
   "execution_count": 6,
   "metadata": {},
   "outputs": [],
   "source": [
    "# Vectorize the combined features using CountVectorizer\n",
    "count_vectorizer = CountVectorizer(stop_words='english')\n",
    "count_matrix = count_vectorizer.fit_transform(data['combined_features'])\n",
    "\n",
    "# Compute cosine similarity based on the count matrix\n",
    "cosine_sim = cosine_similarity(count_matrix, count_matrix)\n",
    "\n",
    "# Create a Series to map movie titles to their index\n",
    "indices = pd.Series(data.index, index=data['original_title']).drop_duplicates()"
   ]
  },
  {
   "cell_type": "code",
   "execution_count": 7,
   "metadata": {},
   "outputs": [],
   "source": [
    "def get_content_based_recommendations(title, cosine_sim=cosine_sim):\n",
    "    # Get the index of the movie that matches the title\n",
    "    idx = indices[title]\n",
    "\n",
    "    # Get the pairwise similarity scores of all movies with that movie\n",
    "    sim_scores = list(enumerate(cosine_sim[idx]))\n",
    "\n",
    "    # Sort the movies based on the similarity scores\n",
    "    sim_scores = sorted(sim_scores, key=lambda x: x[1], reverse=True)\n",
    "\n",
    "    # Get the scores of the 10 most similar movies\n",
    "    sim_scores = sim_scores[1:11]\n",
    "\n",
    "    # Get the movie indices\n",
    "    movie_indices = [i[0] for i in sim_scores]\n",
    "\n",
    "    # Return the top 10 most similar movies\n",
    "    return data['original_title'].iloc[movie_indices]"
   ]
  },
  {
   "cell_type": "code",
   "execution_count": 8,
   "metadata": {},
   "outputs": [
    {
     "name": "stdout",
     "output_type": "stream",
     "text": [
      "6462                      Cosmic Sin\n",
      "4863                         Soldier\n",
      "1205              Planet of the Apes\n",
      "7449                        Stowaway\n",
      "3206                 Mission to Mars\n",
      "9368         Approaching the Unknown\n",
      "150                            Alien\n",
      "128     Rogue One: A Star Wars Story\n",
      "4206                       ìŠ¹ë¦¬í˜¸\n",
      "96           The Empire Strikes Back\n",
      "Name: original_title, dtype: object\n"
     ]
    }
   ],
   "source": [
    "# Get recommendations for the movie 'Avatar'\n",
    "print(get_content_based_recommendations('Avatar'))"
   ]
  },
  {
   "cell_type": "code",
   "execution_count": 9,
   "metadata": {},
   "outputs": [],
   "source": [
    "# Ensure 'overview' column does not have missing values\n",
    "data_cleaned = data[['original_title', 'overview']].dropna()\n",
    "\n",
    "# Initialize the TF-IDF Vectorizer and fit-transform the 'overview' column\n",
    "tfidf_vectorizer = TfidfVectorizer(stop_words='english')\n",
    "tfidf_matrix = tfidf_vectorizer.fit_transform(data_cleaned['overview'])\n",
    "\n",
    "# Compute cosine similarity based on the TF-IDF matrix\n",
    "cosine_sim = cosine_similarity(tfidf_matrix, tfidf_matrix)\n",
    "\n",
    "# Create a Series to map movie titles to their index\n",
    "indices = pd.Series(data_cleaned.index, index=data_cleaned['original_title']).drop_duplicates()"
   ]
  },
  {
   "cell_type": "code",
   "execution_count": 10,
   "metadata": {},
   "outputs": [],
   "source": [
    "def get_recommendations_based_on_overview(title, cosine_sim=cosine_sim):\n",
    "    # Get the index of the movie that matches the title\n",
    "    idx = indices[title]\n",
    "\n",
    "    # Get the pairwise similarity scores of all movies with that movie\n",
    "    sim_scores = list(enumerate(cosine_sim[idx]))\n",
    "\n",
    "    # Sort the movies based on the similarity scores\n",
    "    sim_scores = sorted(sim_scores, key=lambda x: x[1], reverse=True)\n",
    "\n",
    "    # Get the scores of the 10 most similar movies\n",
    "    sim_scores = sim_scores[1:11]\n",
    "\n",
    "    # Get the movie indices\n",
    "    movie_indices = [i[0] for i in sim_scores]\n",
    "\n",
    "    # Return the top 10 most similar movies\n",
    "    return data_cleaned['original_title'].iloc[movie_indices]"
   ]
  },
  {
   "cell_type": "code",
   "execution_count": 18,
   "metadata": {},
   "outputs": [
    {
     "name": "stdout",
     "output_type": "stream",
     "text": [
      "7506                             ì‹ ì„¸ê³„\n",
      "9162              Inception: The Cobol Job\n",
      "6566                                 House\n",
      "6385                                Cypher\n",
      "3712                       The Wrong Missy\n",
      "389     Mission: Impossible - Rogue Nation\n",
      "738                   Central Intelligence\n",
      "7449                              Stowaway\n",
      "1546                 A History of Violence\n",
      "8139                              Primeval\n",
      "Name: original_title, dtype: object\n"
     ]
    }
   ],
   "source": [
    "# Get recommendations for the movie 'Inception'\n",
    "print(get_recommendations_based_on_overview('Inception'))"
   ]
  },
  {
   "cell_type": "code",
   "execution_count": 13,
   "metadata": {},
   "outputs": [],
   "source": [
    "# Function to clean text (lowercase and strip whitespace)\n",
    "def clean_text(text):\n",
    "    return text.strip().lower()\n",
    "\n",
    "# Apply text cleaning to the 'overview' column\n",
    "data_cleaned['overview'] = data_cleaned['overview'].apply(clean_text)\n",
    "\n",
    "# Function to analyze sentiment using TextBlob\n",
    "def analyze_sentiment(text):\n",
    "    analysis = TextBlob(text)\n",
    "    return analysis.sentiment.polarity"
   ]
  },
  {
   "cell_type": "code",
   "execution_count": 14,
   "metadata": {},
   "outputs": [],
   "source": [
    "# Analyze sentiment of movie overviews\n",
    "data_cleaned['sentiment'] = data_cleaned['overview'].apply(analyze_sentiment)\n",
    "\n",
    "# Initialize the TF-IDF Vectorizer and fit-transform the cleaned 'overview' column\n",
    "tfidf_matrix = tfidf_vectorizer.fit_transform(data_cleaned['overview'])\n",
    "\n",
    "# Combine TF-IDF features with sentiment scores\n",
    "tfidf_features = tfidf_matrix.toarray()\n",
    "sentiment_scores = data_cleaned['sentiment'].values.reshape(-1, 1)\n",
    "combined_features = np.hstack((tfidf_features, sentiment_scores))\n",
    "\n",
    "# Compute cosine similarity based on the combined features\n",
    "cosine_sim = cosine_similarity(combined_features, combined_features)\n",
    "\n",
    "# Create a Series to map movie titles to their index\n",
    "indices = pd.Series(data_cleaned.index, index=data_cleaned['original_title']).drop_duplicates()"
   ]
  },
  {
   "cell_type": "code",
   "execution_count": 15,
   "metadata": {},
   "outputs": [],
   "source": [
    "def get_recommendations_based_on_nlp(title, cosine_sim=cosine_sim):\n",
    "    # Get the index of the movie that matches the title\n",
    "    idx = indices[title]\n",
    "\n",
    "    # Get the pairwise similarity scores of all movies with that movie\n",
    "    sim_scores = list(enumerate(cosine_sim[idx]))\n",
    "\n",
    "    # Sort the movies based on the similarity scores\n",
    "    sim_scores = sorted(sim_scores, key=lambda x: x[1], reverse=True)\n",
    "\n",
    "    # Get the scores of the 10 most similar movies\n",
    "    sim_scores = sim_scores[1:11]\n",
    "\n",
    "    # Get the movie indices\n",
    "    movie_indices = [i[0] for i in sim_scores]\n",
    "\n",
    "    # Return the top 10 most similar movies\n",
    "    return data_cleaned['original_title'].iloc[movie_indices]"
   ]
  },
  {
   "cell_type": "code",
   "execution_count": 19,
   "metadata": {},
   "outputs": [
    {
     "name": "stdout",
     "output_type": "stream",
     "text": [
      "7506                             ì‹ ì„¸ê³„\n",
      "9162              Inception: The Cobol Job\n",
      "6566                                 House\n",
      "6385                                Cypher\n",
      "3712                       The Wrong Missy\n",
      "389     Mission: Impossible - Rogue Nation\n",
      "738                   Central Intelligence\n",
      "1546                 A History of Violence\n",
      "8139                              Primeval\n",
      "5055                             12 Rounds\n",
      "Name: original_title, dtype: object\n"
     ]
    }
   ],
   "source": [
    "# Get recommendations for the movie 'Inception' based on NLP features\n",
    "print(get_recommendations_based_on_nlp('Inception'))"
   ]
  }
 ],
 "metadata": {
  "kernelspec": {
   "display_name": "Python 3",
   "language": "python",
   "name": "python3"
  },
  "language_info": {
   "codemirror_mode": {
    "name": "ipython",
    "version": 3
   },
   "file_extension": ".py",
   "mimetype": "text/x-python",
   "name": "python",
   "nbconvert_exporter": "python",
   "pygments_lexer": "ipython3",
   "version": "3.10.6"
  }
 },
 "nbformat": 4,
 "nbformat_minor": 2
}
